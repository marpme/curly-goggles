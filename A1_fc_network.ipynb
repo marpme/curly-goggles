{
 "cells": [
  {
   "cell_type": "markdown",
   "metadata": {},
   "source": [
    "# ML-Fundamentals - Neural Networks - Exercise: Minimal Fully Connected Network for MNIST"
   ]
  },
  {
   "cell_type": "markdown",
   "metadata": {},
   "source": [
    "## Table of Contents\n",
    "* [Requirements](#Requirements) \n",
    "  * [Modules](#Python-Modules) \n",
    "  * [Data](#Data)\n",
    "* [Simple MNIST Network](#Simple-MNIST-Network)\n",
    "  * [Todo: Transparency](#Todo:-Transparency)\n",
    "  * [Todo: Comprehension](#Todo:-Comprehension)\n",
    "  * [Todo: Step towards a NN-Framework](#Todo:-Step-towards-a-NN-Framework)"
   ]
  },
  {
   "cell_type": "markdown",
   "metadata": {},
   "source": [
    "# Requirements\n"
   ]
  },
  {
   "cell_type": "markdown",
   "metadata": {},
   "source": [
    "## Python-Modules"
   ]
  },
  {
   "cell_type": "code",
   "execution_count": 2,
   "metadata": {},
   "outputs": [],
   "source": [
    "# third party\n",
    "import numpy as np\n",
    "import matplotlib.pyplot as plt\n",
    "import time\n",
    "\n",
    "# internal\n",
    "from deep_teaching_commons.data.fundamentals.mnist import Mnist"
   ]
  },
  {
   "cell_type": "markdown",
   "metadata": {},
   "source": [
    "## Data"
   ]
  },
  {
   "cell_type": "code",
   "execution_count": 3,
   "metadata": {},
   "outputs": [
    {
     "name": "stdout",
     "output_type": "stream",
     "text": [
      "auto download is active, attempting download\n",
      "mnist data directory already exists, download aborted\n"
     ]
    }
   ],
   "source": [
    "# create mnist loader from deep_teaching_commons\n",
    "mnist_loader = Mnist(data_dir='data')\n",
    "\n",
    "# load all data, labels are one-hot-encoded, images are flatten and pixel squashed between [0,1]\n",
    "train_images, train_labels, test_images, test_labels = mnist_loader.get_all_data(one_hot_enc=True, normalized=True)\n",
    "\n",
    "# shuffle training data\n",
    "shuffle_index = np.random.permutation(60000)\n",
    "train_images, train_labels = train_images[shuffle_index], train_labels[shuffle_index]"
   ]
  },
  {
   "cell_type": "markdown",
   "metadata": {},
   "source": [
    "# Simple MNIST Network\n",
    "The presented network is an adaptation of Michael Nielson's introductory example to neural networks. It is recommended, though not necessary, to read the first two chapters of his great online book ['Neural Networks and Deep Learning'](http://neuralnetworksanddeeplearning.com/) for a better understanding of the given example. Compared to the [original](https://github.com/mnielsen/neural-networks-and-deep-learning/blob/master/src/network.py) by Nielsen, the present variant was vectorized and the sigmoid activation function replaced by a rectified linear unit function (ReLU). As a result, the code is written much more compact, and the optimization of the model is much more efficient. "
   ]
  },
  {
   "cell_type": "markdown",
   "metadata": {},
   "source": [
    "## Todo: Transparency\n",
    "Your goal is to understand how the implementation works. Therefore your tasks are as follows:\n",
    "  - (2) Add comments to functions and lines of code. Follow the [Google-Pyhton](https://google.github.io/styleguide/pyguide.html) guidelines for comments.\n",
    "  - (2) Add a verbose argument (`boolean`) to the functions that adds meaningful `print` lines to the network, if it is `true`.\n",
    "  - (2) Add a variable `delta_hist` which store the delta value calculated on the output layer during each iteration of the function `grads(X,Y,weights)`. After the optimization process plot `delta_hist`."
   ]
  },
  {
   "cell_type": "code",
   "execution_count": 4,
   "metadata": {},
   "outputs": [
    {
     "name": "stdout",
     "output_type": "stream",
     "text": [
      "Episode:  0\n",
      "Error:  0.058599999999999985\n",
      "Correct:  0.9414\n",
      "Episode:  1\n",
      "Error:  0.04800000000000004\n",
      "Correct:  0.952\n",
      "Episode:  2\n",
      "Error:  0.04139999999999999\n",
      "Correct:  0.9586\n",
      "Episode:  3\n",
      "Error:  0.038799999999999946\n",
      "Correct:  0.9612\n",
      "Episode:  4\n",
      "Error:  0.03720000000000001\n",
      "Correct:  0.9628\n",
      "Episode:  5\n",
      "Error:  0.03510000000000002\n",
      "Correct:  0.9649\n",
      "Episode:  6\n",
      "Error:  0.033399999999999985\n",
      "Correct:  0.9666\n",
      "Episode:  7\n",
      "Error:  0.031000000000000028\n",
      "Correct:  0.969\n",
      "Episode:  8\n",
      "Error:  0.02949999999999997\n",
      "Correct:  0.9705\n",
      "Episode:  9\n",
      "Error:  0.028000000000000025\n",
      "Correct:  0.972\n",
      "Episode:  10\n",
      "Error:  0.027599999999999958\n",
      "Correct:  0.9724\n",
      "Episode:  11\n",
      "Error:  0.026699999999999946\n",
      "Correct:  0.9733\n",
      "Episode:  12\n",
      "Error:  0.02629999999999999\n",
      "Correct:  0.9737\n",
      "Episode:  13\n",
      "Error:  0.025699999999999945\n",
      "Correct:  0.9743\n",
      "Episode:  14\n",
      "Error:  0.025000000000000022\n",
      "Correct:  0.975\n",
      "Episode:  15\n",
      "Error:  0.0242\n",
      "Correct:  0.9758\n",
      "Episode:  16\n",
      "Error:  0.023800000000000043\n",
      "Correct:  0.9762\n",
      "Episode:  17\n",
      "Error:  0.023499999999999965\n",
      "Correct:  0.9765\n",
      "Episode:  18\n",
      "Error:  0.02310000000000001\n",
      "Correct:  0.9769\n",
      "Episode:  19\n",
      "Error:  0.02290000000000003\n",
      "Correct:  0.9771\n"
     ]
    }
   ],
   "source": [
    "delta_hist =[]\n",
    "DEBUG = True\n",
    "\n",
    "def log(*args, **kwargs):\n",
    "    \"\"\"\n",
    "    Debug log\n",
    "    if debug is enabled you can log the step details\n",
    "    \n",
    "    Args:\n",
    "        args: List of item for the print command when activated\n",
    "    \"\"\"\n",
    "    if DEBUG:\n",
    "        print(*args, **kwargs)\n",
    "\n",
    "def feed_forward(X, weights):\n",
    "    \"\"\"\n",
    "    Feed forward\n",
    "    puts the X values into the forward calculation\n",
    "    to calculate the current out come with the given weights\n",
    "    \n",
    "    Args: \n",
    "        X: training data\n",
    "        weights: for the certain step \n",
    "                (no difference in a FC network)\n",
    "\n",
    "    returns: \n",
    "        an array with each calculated outcome\n",
    "    \"\"\"\n",
    "    a = [X]\n",
    "    for w in weights:\n",
    "        a.append(\n",
    "            np.maximum(\n",
    "                a[-1].dot(w),\n",
    "                0\n",
    "            )\n",
    "        )\n",
    "    return a\n",
    "\n",
    "def grads(X, Y, weights, iteration):\n",
    "    \"\"\"\n",
    "    Gradinent function\n",
    "    \n",
    "    To forward and then backward calucate the new grads\n",
    "    for updating the weights appropriately.\n",
    "    \n",
    "    Args:\n",
    "        X: Training data\n",
    "        Y: Test Data \n",
    "        weights: old weights based on the old calculations\n",
    "        \n",
    "    Returns:\n",
    "        new grads for updating the old weights\n",
    "    \"\"\"\n",
    "    grads = np.empty_like(weights)\n",
    "    a = feed_forward(X, weights)\n",
    "    \n",
    "    return backwardsFunction(X, Y, weights, a, grads, iteration)\n",
    "    \n",
    "def backwardsFunction(X, Y, weights, a, grads, iteration):\n",
    "    # delta für alle labels \n",
    "    delta = a[-1] - Y\n",
    "    \n",
    "    # berechnen der Lossfunktion\n",
    "    delta_hist.append(np.sum(delta*Y)/len(X))\n",
    "    \n",
    "    #erster step des backward paths berechnen\n",
    "    grads[-1] = a[-2].T.dot(delta)\n",
    "    \n",
    "    # über die anderen layer loopen und\n",
    "    # die einzelnen Backward ergebnisse ergänzen\n",
    "    for i in range(len(a)-2, 0, -1):\n",
    "        delta = (a[i] > 0) * delta.dot(weights[i].T)\n",
    "        grads[i-1] = a[i-1].T.dot(delta)\n",
    "    return grads / len(X)\n",
    "\n",
    "# initialiseren der einzelnen Training- und Testdaten\n",
    "trX, trY, teX, teY = train_images, train_labels, test_images, test_labels\n",
    "# Initialisieren der einzelnen Weights\n",
    "weights = [np.random.randn(*w) * 0.1 for w in [(784, 200), (200,100), (100, 10)]]\n",
    "# einige superparamter für das Netzwerk\n",
    "num_epochs, batch_size, learn_rate = 20, 50, 0.1\n",
    "\n",
    "\n",
    "# loop über die anzahlen der Epochen => 20\n",
    "for i in range(num_epochs):\n",
    "    log(\"Episode: \" , i)\n",
    "    for j in range(0, len(trX), batch_size):\n",
    "        # Training daten in Batches unterteilen\n",
    "        X, Y = trX[j:j+batch_size], trY[j:j+batch_size]\n",
    "        # lernen der weights basierend auf den test daten (batch)\n",
    "        weights -= learn_rate * grads(X, Y, weights, i)\n",
    "    \n",
    "    # testen der tatsächlichen Genauigkeit\n",
    "    prediction_test = np.argmax(feed_forward(teX, weights)[-1], axis=1)\n",
    "    # vergleichen der eigentlichen Ergebnissen mit den berechneten Ergebnisse\n",
    "    # Ausgabe der Genauigkeit\n",
    "    log (\"Error: \", 1 - np.mean(prediction_test == np.argmax(teY, axis=1)))\n",
    "    log (\"Correct: \",np.mean(prediction_test == np.argmax(teY, axis=1)))\n",
    "    "
   ]
  },
  {
   "cell_type": "code",
   "execution_count": 5,
   "metadata": {},
   "outputs": [
    {
     "data": {
      "text/plain": [
       "<matplotlib.legend.Legend at 0x1007b5f28>"
      ]
     },
     "execution_count": 5,
     "metadata": {},
     "output_type": "execute_result"
    },
    {
     "data": {
      "image/png": "[encoded data removed]",
      "text/plain": [
       "<Figure size 1080x576 with 2 Axes>"
      ]
     },
     "metadata": {},
     "output_type": "display_data"
    }
   ],
   "source": [
    "fig1 = plt.figure(1, figsize=(15, 8))\n",
    "ax1 = fig1.add_subplot(211)\n",
    "\n",
    "# Plot of the decay model \n",
    "ax1.plot(delta_hist, color='mediumaquamarine', label=\"Delta\")\n",
    "\n",
    "ax1.set_xlabel('Time (epoches * batch sizes)')\n",
    "ax1.set_ylabel('Delta')\n",
    "ax1.set_title('Changes for deltas while training')\n",
    "\n",
    "# Allows me to change scales\n",
    "# ax1.set_yscale('log')\n",
    "ax1.legend(fancybox=True, shadow=True)\n",
    "\n",
    "ax2 = fig1.add_subplot(212)\n",
    "\n",
    "# Plot of the decay model \n",
    "ax2.psd(delta_hist, color='mediumaquamarine', label=\"Delta change per iteration\")\n",
    "\n",
    "ax2.set_xlabel('Loss/Delta')\n",
    "ax2.set_ylabel('Delta')\n",
    "\n",
    "\n",
    "# Allows me to change scales\n",
    "# ax1.set_yscale('log')\n",
    "ax2.legend(fancybox=True, shadow=True)"
   ]
  },
  {
   "cell_type": "markdown",
   "metadata": {},
   "source": [
    "## Todo: Comprehension\n",
    "Hopefully, this implementation of a neural network is clear now. As a check answer the following questions (a few sentences, no novels):\n",
    "\n",
    "  - (2) Which cost function is used, what is its derivation and how is it implemented?\n",
    "  \n",
    "      * cost function = loss function => $\\dfrac{\\sum_{i=0}^{N}{delta_i*Y_i}}{\\lvert X \\lvert}$\n",
    "      \n",
    "      \n",
    "  - (2) Why are the boundaries of your plot between [-1,0], why it is so noisy, how do you can reduce the noice and what is the difference to a usual plot of a loss function?\n",
    "  \n",
    "      * The delta is between -1 and zero due to the fact that we calculated the delta be removing the correct\n",
    "        labels from the current evaluated labels. Thus we have to be below zero as Zero would be 100% fitting. \n",
    "  \n",
    "  \n",
    "  - (2) How does the network implement the backpropagation algorithm?\n",
    "  \n",
    "      *  It staticly implements it by checking the input to be `x == 0` or to be `x > 0`,\n",
    "         so that in the backward path only the maximum paths are being tracked."
   ]
  },
  {
   "cell_type": "markdown",
   "metadata": {},
   "source": [
    "## Todo: Step towards a NN-Framework\n",
    "The presented implementation is compact and efficient, but hard to modify or extend. However, a modular design is crucial if you want to experiment with a neural network to understand the influence of its components. Now you make the first changes towards your own 'toy-neural-network-framework', which you should expand in the progress of exercise 03. \n",
    "\n",
    "(5) Rework the implementation from above given the classes and methods below. Again, you _do not_ have to re-engineer the whole neural network at this step. Rework the code to match the given specification and do necessary modifications only. For your understanding, you can change the names of the variables to more fitting ones."
   ]
  },
  {
   "cell_type": "code",
   "execution_count": 6,
   "metadata": {},
   "outputs": [
    {
     "name": "stdout",
     "output_type": "stream",
     "text": [
      "Episode:  0\n",
      "Correct:  0.8679\n",
      "Episode:  1\n",
      "Correct:  0.8979\n",
      "Episode:  2\n",
      "Correct:  0.9106\n",
      "Episode:  3\n",
      "Correct:  0.9202\n",
      "Episode:  4\n",
      "Correct:  0.9271\n",
      "Episode:  5\n",
      "Correct:  0.9309\n",
      "Episode:  6\n",
      "Correct:  0.9355\n",
      "Episode:  7\n",
      "Correct:  0.9386\n",
      "Episode:  8\n",
      "Correct:  0.9414\n",
      "Episode:  9\n",
      "Correct:  0.944\n",
      "Episode:  10\n",
      "Correct:  0.9467\n",
      "Episode:  11\n",
      "Correct:  0.9477\n",
      "Episode:  12\n",
      "Correct:  0.9496\n",
      "Episode:  13\n",
      "Correct:  0.9509\n",
      "Episode:  14\n",
      "Correct:  0.9522\n",
      "Episode:  15\n",
      "Correct:  0.9537\n",
      "Episode:  16\n",
      "Correct:  0.9545\n",
      "Episode:  17\n",
      "Correct:  0.9553\n",
      "Episode:  18\n",
      "Correct:  0.9559\n",
      "Episode:  19\n",
      "Correct:  0.9568\n"
     ]
    },
    {
     "data": {
      "text/plain": [
       "[<matplotlib.lines.Line2D at 0x102bf9978>]"
      ]
     },
     "execution_count": 6,
     "metadata": {},
     "output_type": "execute_result"
    },
    {
     "data": {
      "image/png": "[encoded data removed]",
      "text/plain": [
       "<Figure size 432x288 with 1 Axes>"
      ]
     },
     "metadata": {},
     "output_type": "display_data"
    }
   ],
   "source": [
    "class FullyConnectedNetwork:\n",
    "    def __init__(self, layers):\n",
    "        # Initialisieren der einzelnen Weights\n",
    "        self.layersWeights = [np.random.randn(*l) * 0.1 for l in layers]\n",
    "        # delta history\n",
    "        self.delta_hist = []\n",
    "        \n",
    "    def forward(self, data):\n",
    "        self.forwardLayers = [data]\n",
    "        \n",
    "        # f(x) = max(Wx, 0)\n",
    "        # for each layer so we have a stacked max function\n",
    "        for w in self.layersWeights:\n",
    "            self.forwardLayers.append(\n",
    "                np.maximum(\n",
    "                    self.forwardLayers[-1].dot(w),\n",
    "                    0\n",
    "                )\n",
    "            )\n",
    "        \n",
    "        assert(len(self.forwardLayers) == len(self.layersWeights)+1)\n",
    "        \n",
    "        return self.forwardLayers\n",
    "            \n",
    "\n",
    "    def backward(self, X, Y):\n",
    "        \"\"\"\n",
    "        # delta für alle labels \n",
    "        delta = a[-1] - Y\n",
    "\n",
    "        delta_hist.append(np.sum(delta*Y)/len(X))\n",
    "        grads[-1] = a[-2].T.dot(delta)\n",
    "\n",
    "        for i in range(len(a)-2, 0, -1):\n",
    "            delta = (a[i] > 0) * delta.dot(weights[i].T)\n",
    "            grads[i-1] = a[i-1].T.dot(delta)\n",
    "        return grads / len(X)\n",
    "        \"\"\"\n",
    "        # create gradient mapping based on the layer structure\n",
    "        self.gradients = np.empty_like(self.layersWeights)\n",
    "        \n",
    "        # Check the output layer against the accepted labels \n",
    "        delta = self.forwardLayers[-1] - Y\n",
    "    \n",
    "        self.delta_hist.append(np.sum(delta*Y) / len(X))\n",
    "        \n",
    "        # first backward gradient\n",
    "        self.gradients[-1] = self.forwardLayers[-2].T.dot(delta)\n",
    "\n",
    "        # loop through each layer backwards\n",
    "        for i in range(len(self.forwardLayers)-2, 0, -1):\n",
    "            delta = (self.forwardLayers[i] > 0) * delta.dot(self.layersWeights[i].T)\n",
    "            self.gradients[i-1] = self.forwardLayers[i-1].T.dot(delta)\n",
    "            \n",
    "        return self.gradients / len(X)\n",
    "\n",
    "    def predict(self, data):\n",
    "        return self.forward(data)\n",
    "            \n",
    "class Optimizer:\n",
    "    def __init__(self, network, train_data, train_labels, test_data=None, test_labels=None, epochs=100, batch_size=20, learning_rate=0.01):\n",
    "        self.network = network\n",
    "        self.trX, self.trY = train_data, train_labels\n",
    "        self.teX, self.teY = test_data, test_labels\n",
    "        self.num_epochs, self.batch_size, self.learn_rate = epochs, batch_size, learning_rate\n",
    "        \n",
    "        # loop über die anzahlen der Epochen => 20\n",
    "        for i in range(self.num_epochs):\n",
    "            log(\"Episode: \" , i)\n",
    "            self.stochastic_gradient_descent()\n",
    "            if self.teX is not None: \n",
    "                prediction_test = np.argmax(self.network.predict(self.teX)[-1], axis=1)\n",
    "                log (\"Correct: \",np.mean(prediction_test == np.argmax(self.teY, axis=1)))\n",
    "        \n",
    "    def stochastic_gradient_descent(self):\n",
    "        for j in range(0, len(self.trX), self.batch_size):\n",
    "            # Training daten in Batches unterteilen\n",
    "            batchX, batchY = self.trX[j:j+self.batch_size], self.trY[j:j+self.batch_size]\n",
    "            \n",
    "            self.network.forward(batchX)\n",
    "            gradient = self.network.backward(batchX, batchY)\n",
    "            \n",
    "            # lernen der weights basierend auf den test daten (batch)\n",
    "            self.network.layersWeights -= self.learn_rate * gradient\n",
    "         \n",
    "\n",
    " # Following code should run:    \n",
    "mnist_NN = FullyConnectedNetwork([(784, 200),(200,100),(100, 10)]) \n",
    "epochs, batch_size, learning_rate = 20, 500, 0.1\n",
    "Optimizer(mnist_NN, train_images, train_labels, test_images, test_labels, epochs, batch_size, learning_rate)\n",
    "plt.plot(mnist_NN.delta_hist)"
   ]
  },
  {
   "cell_type": "code",
   "execution_count": null,
   "metadata": {},
   "outputs": [],
   "source": []
  },
  {
   "cell_type": "code",
   "execution_count": null,
   "metadata": {},
   "outputs": [],
   "source": []
  },
  {
   "cell_type": "code",
   "execution_count": null,
   "metadata": {},
   "outputs": [],
   "source": []
  },
  {
   "cell_type": "code",
   "execution_count": null,
   "metadata": {},
   "outputs": [],
   "source": []
  },
  {
   "cell_type": "code",
   "execution_count": null,
   "metadata": {},
   "outputs": [],
   "source": []
  }
 ],
 "metadata": {
  "kernelspec": {
   "display_name": "Python 3",
   "language": "python",
   "name": "python3"
  },
  "language_info": {
   "codemirror_mode": {
    "name": "ipython",
    "version": 3
   },
   "file_extension": ".py",
   "mimetype": "text/x-python",
   "name": "python",
   "nbconvert_exporter": "python",
   "pygments_lexer": "ipython3",
   "version": "3.6.5"
  }
 },
 "nbformat": 4,
 "nbformat_minor": 2
}
