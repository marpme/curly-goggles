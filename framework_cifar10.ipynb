{
 "cells": [
  {
   "cell_type": "code",
   "execution_count": 1,
   "metadata": {},
   "outputs": [],
   "source": [
    "# third party\n",
    "import numpy as np\n",
    "from deep_teaching_commons.data.fundamentals.mnist import Mnist\n",
    "\n",
    "# framework modules\n",
    "from htw_nn_framework.networks import *\n",
    "from htw_nn_framework.activation_func import *\n",
    "from htw_nn_framework.loss_func import *\n",
    "from htw_nn_framework.layer import *\n",
    "from htw_nn_framework.optimizer import *"
   ]
  },
  {
   "cell_type": "code",
   "execution_count": 2,
   "metadata": {},
   "outputs": [],
   "source": [
    "def loadMNISTData():\n",
    "    # create mnist loader from deep_teaching_commons\n",
    "    mnist_loader = Mnist(data_dir='data')\n",
    "\n",
    "    # load all data, labels are one-hot-encoded, images are flatten and pixel squashed between [0,1]\n",
    "    train_images, train_labels, test_images, test_labels = mnist_loader.get_all_data(flatten=False, one_hot_enc=False, normalized=True)\n",
    "    print(train_images.shape, train_labels.shape)\n",
    "\n",
    "    # reshape to match generel framework architecture \n",
    "    train_images, test_images = train_images.reshape(60000, 1, 28, 28), test_images.reshape(10000, 1, 28, 28)            \n",
    "    print(train_images.shape, train_labels.shape)\n",
    "\n",
    "    # shuffle training data\n",
    "    shuffle_index = np.random.permutation(60000)\n",
    "    train_images, train_labels = train_images[shuffle_index], train_labels[shuffle_index]\n",
    "    return (train_images, train_labels, test_images, test_labels)"
   ]
  },
  {
   "cell_type": "code",
   "execution_count": 3,
   "metadata": {},
   "outputs": [
    {
     "name": "stdout",
     "output_type": "stream",
     "text": [
      "auto download is active, attempting download\n",
      "mnist data directory already exists, download aborted\n",
      "(60000, 28, 28) (60000,)\n",
      "(60000, 1, 28, 28) (60000,)\n"
     ]
    }
   ],
   "source": [
    "(train_images, train_labels, test_images, test_labels) = loadMNISTData()"
   ]
  },
  {
   "cell_type": "code",
   "execution_count": 4,
   "metadata": {},
   "outputs": [
    {
     "name": "stdout",
     "output_type": "stream",
     "text": [
      "Epoch 1\n",
      "Loss = 0.4792883919819676 :: Training = 0.96885 :: Test = 0.9631\n",
      "Epoch 2\n",
      "Loss = 0.4390914620258308 :: Training = 0.9771333333333333 :: Test = 0.9675\n",
      "Epoch 3\n",
      "Loss = 0.5298973906256939 :: Training = 0.9826 :: Test = 0.9727\n",
      "Epoch 4\n",
      "Loss = 0.42006682179008464 :: Training = 0.9837666666666667 :: Test = 0.9674\n",
      "Epoch 5\n",
      "Loss = 0.3201840575362849 :: Training = 0.9855333333333334 :: Test = 0.9719\n",
      "Epoch 6\n",
      "Loss = 0.2721845494547274 :: Training = 0.9846 :: Test = 0.9684\n",
      "Epoch 7\n",
      "Loss = 0.21796494788434684 :: Training = 0.9911166666666666 :: Test = 0.9776\n",
      "Epoch 8\n",
      "Loss = 0.15898890689346915 :: Training = 0.99055 :: Test = 0.9739\n",
      "Epoch 9\n",
      "Loss = 0.33746119893158033 :: Training = 0.98895 :: Test = 0.9745\n",
      "Epoch 10\n",
      "Loss = 0.3030278179553948 :: Training = 0.9931833333333333 :: Test = 0.9761\n"
     ]
    }
   ],
   "source": [
    "# design a three hidden layer architecture with Dense-Layer\n",
    "# and ReLU as activation function\n",
    "def fcn_mnist():\n",
    "    flat = Flatten()\n",
    "    hidden_01 = FullyConnected(784, 500)\n",
    "    relu_01 = ReLU()\n",
    "    hidden_02 = FullyConnected(500, 200)\n",
    "    relu_02 = ReLU()\n",
    "    hidden_03 = FullyConnected(200, 100)\n",
    "    relu_03 = ReLU()\n",
    "    ouput = FullyConnected(100, 10)\n",
    "    return [flat, hidden_01, relu_01, hidden_02, relu_02, hidden_03, relu_03, ouput]\n",
    "\n",
    "# create a neural network on specified architecture with softmax as score function\n",
    "fcn = NeuralNetwork(fcn_mnist(), score_func=LossCriteria.softmax)\n",
    "\n",
    "# optimize the network and a softmax loss\n",
    "fcn = Optimizer.sgd(fcn, train_images, train_labels, LossCriteria.cross_entropy_softmax, batch_size=64, epoch=10, learning_rate=0.01, X_test=test_images, y_test=test_labels, verbose=True)"
   ]
  },
  {
   "cell_type": "code",
   "execution_count": null,
   "metadata": {},
   "outputs": [],
   "source": []
  }
 ],
 "metadata": {
  "kernelspec": {
   "display_name": "Python 3",
   "language": "python",
   "name": "python3"
  },
  "language_info": {
   "codemirror_mode": {
    "name": "ipython",
    "version": 3
   },
   "file_extension": ".py",
   "mimetype": "text/x-python",
   "name": "python",
   "nbconvert_exporter": "python",
   "pygments_lexer": "ipython3",
   "version": "3.6.5"
  }
 },
 "nbformat": 4,
 "nbformat_minor": 2
}
